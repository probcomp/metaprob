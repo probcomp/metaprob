{
 "cells": [
  {
   "cell_type": "code",
   "execution_count": null,
   "metadata": {},
   "outputs": [],
   "source": [
    "*clojure-version*"
   ]
  },
  {
   "cell_type": "code",
   "execution_count": null,
   "metadata": {},
   "outputs": [],
   "source": [
    "(require '(incanter core stats charts io))\n",
    "(require '[clojure.repl :refer :all])"
   ]
  },
  {
   "cell_type": "code",
   "execution_count": null,
   "metadata": {},
   "outputs": [],
   "source": [
    ";(-> (incanter.stats/sample-normal 10000)\n",
    ";    incanter.charts/histogram\n",
    ";    (.createBufferedImage 600 400))"
   ]
  },
  {
   "cell_type": "code",
   "execution_count": null,
   "metadata": {},
   "outputs": [],
   "source": [
    "(require '[metaprob.state :as state])\n",
    "(require '[metaprob.trace :as trace])\n",
    "(require '[metaprob.sequence :as sequence])\n",
    "(require '[metaprob.builtin-impl :as impl])\n",
    "\n",
    "(require '[metaprob.syntax :refer :all])\n",
    "(require '[metaprob.builtin :refer :all])\n",
    "(require '[metaprob.prelude :refer :all])\n",
    "(require '[metaprob.distributions :refer :all])\n",
    "(require '[metaprob.interpreters :refer :all])\n",
    "(require '[metaprob.inference :refer :all])\n",
    "\n",
    "(require '[metaprob.infer :as infer])\n",
    "(require '[metaprob.compositional :as comp])\n",
    "(require '[metaprob.examples.gaussian :refer :all])"
   ]
  },
  {
   "cell_type": "code",
   "execution_count": null,
   "metadata": {},
   "outputs": [],
   "source": [
    "(define example-2D\n",
    "  (gen []\n",
    "    (define x (gaussian 0 1))\n",
    "    (define y (gaussian x 1))\n",
    "    (+ x y)))"
   ]
  },
  {
   "cell_type": "code",
   "execution_count": null,
   "metadata": {},
   "outputs": [],
   "source": [
    "(define get-trace\n",
    "    (gen [proc inputs]\n",
    "         (define out (empty-trace))\n",
    "         (infer :procedure proc\n",
    "                :inputs inputs\n",
    "                :output-trace out)\n",
    "         out))\n",
    "\n",
    "(define get-example-2D-traces\n",
    "    (gen [n]\n",
    "         (take n (repeatedly (gen [] (get-trace example-2D nil))))))\n",
    "\n",
    "(define get-xs\n",
    "    (gen [traces]\n",
    "         (map (gen [rho] (trace-get rho (addr 0 \"x\" \"gaussian\"))) traces)))\n",
    "\n",
    "(define get-ys\n",
    "    (gen [traces]\n",
    "         (map (gen [rho] (trace-get rho (addr 1 \"y\" \"gaussian\"))) traces)))"
   ]
  },
  {
   "cell_type": "code",
   "execution_count": null,
   "metadata": {},
   "outputs": [],
   "source": [
    "(define make-example-2D-trace \n",
    "    (gen [x y]\n",
    "        (trace 0 (** (trace \"x\" (** (trace \"gaussian\" x))))\n",
    "               1 (** (trace \"y\" (** (trace \"gaussian\" y))))\n",
    "               )))\n",
    "\n",
    "(define score-example-2D\n",
    "    (gen [x y]\n",
    "         (get (infer :procedure example-2D\n",
    "                     :inputs nil\n",
    "                     :target-trace (make-example-2D-trace x y))\n",
    "              2)))"
   ]
  },
  {
   "cell_type": "code",
   "execution_count": null,
   "metadata": {},
   "outputs": [],
   "source": [
    "(.createBufferedImage\n",
    "    (incanter.charts/heat-map score-example-2D\n",
    "                              -3 3 -3 3\n",
    "                              :title \"Bivariate Gaussian --- exact density\")\n",
    "    300 300)"
   ]
  },
  {
   "cell_type": "code",
   "execution_count": null,
   "metadata": {},
   "outputs": [],
   "source": [
    "(define example-2D-traces (get-example-2D-traces 1000))\n",
    "(.createBufferedImage\n",
    "    (incanter.charts/scatter-plot\n",
    "        (get-xs example-2D-traces)\n",
    "        (get-ys example-2D-traces)\n",
    "        :title \"Bivariate Gaussian generative procedure --- sampled traces\")\n",
    "    500 500)"
   ]
  },
  {
   "cell_type": "code",
   "execution_count": null,
   "metadata": {},
   "outputs": [],
   "source": [
    "(define make-example-2D-density-y-given-x\n",
    "    (gen [xval]\n",
    "         (gen [y]\n",
    "             (get (infer :procedure example-2D\n",
    "                         :inputs nil\n",
    "                         :target-trace (make-example-2D-trace xval y))\n",
    "                  2))\n",
    "         ))\n",
    "\n",
    "(define make-example-2D-sampler-y-given-x\n",
    "    (gen [xval K]\n",
    "         (gen []\n",
    "             (importance-resampling example-2D nil\n",
    "                                    (trace 0 (** (trace \"x\" (** (trace \"gaussian\" xval)))))\n",
    "                                    K))\n",
    "             ))"
   ]
  },
  {
   "cell_type": "code",
   "execution_count": null,
   "metadata": {},
   "outputs": [],
   "source": [
    "(.createBufferedImage (incanter.charts/function-plot (make-example-2D-density-y-given-x 1.0)\n",
    "                                                     -5 5)\n",
    "                      300 300)"
   ]
  },
  {
   "cell_type": "code",
   "execution_count": null,
   "metadata": {},
   "outputs": [],
   "source": [
    "(define example2D-traces-given-x\n",
    "    (take 1000 (repeatedly (make-example-2D-sampler-y-given-x 1.0 10))))\n",
    "\n",
    "(.createBufferedImage\n",
    "    (incanter.charts/histogram\n",
    "        (get-ys example2D-traces-given-x)\n",
    "        :title \"Bivariate Gaussian generative procedure --- sampled traces given x = 1.0\"\n",
    "        )\n",
    "    300 300)"
   ]
  },
  {
   "cell_type": "code",
   "execution_count": null,
   "metadata": {},
   "outputs": [],
   "source": [
    "(.createBufferedImage\n",
    "    (incanter.charts/function-plot\n",
    "        (make-example-2D-density-y-given-x 1.0)\n",
    "        -2 4\n",
    "        :title \"Bivariate Gaussian generative procedure --- density given x = 1.0\"\n",
    "        )\n",
    "    300 300)"
   ]
  },
  {
   "cell_type": "code",
   "execution_count": null,
   "metadata": {},
   "outputs": [],
   "source": [
    "(define example2D-traces-given-x-set2\n",
    "    (take 1000 (repeatedly (make-example-2D-sampler-y-given-x 0.0 10))))\n",
    "\n",
    "(.createBufferedImage\n",
    "    (incanter.charts/histogram\n",
    "        (get-ys example2D-traces-given-x-set2)\n",
    "        :title \"Bivariate Gaussian generative procedure --- sampled traces given x = 0.0\"\n",
    "        )\n",
    "    300 300)"
   ]
  },
  {
   "cell_type": "code",
   "execution_count": null,
   "metadata": {},
   "outputs": [],
   "source": [
    "(.createBufferedImage\n",
    "    (incanter.charts/function-plot\n",
    "        (make-example-2D-density-y-given-x 0.0)\n",
    "        -3 3\n",
    "        :title \"Bivariate Gaussian generative procedure --- density given x = 0.0\"\n",
    "        )\n",
    "    300 300)"
   ]
  }
 ],
 "metadata": {
  "anaconda-cloud": {},
  "kernelspec": {
   "display_name": "Lein-Clojure",
   "language": "clojure",
   "name": "lein-clojure"
  },
  "language_info": {
   "file_extension": ".clj",
   "mimetype": "text/x-clojure",
   "name": "clojure",
   "version": "1.9.0"
  }
 },
 "nbformat": 4,
 "nbformat_minor": 1
}
